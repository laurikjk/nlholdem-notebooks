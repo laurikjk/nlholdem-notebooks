{
 "cells": [
  {
   "cell_type": "code",
   "execution_count": 2,
   "metadata": {},
   "outputs": [],
   "source": [
    "import itertools\n",
    "\n",
    "ranks = [\"A\", \"K\", \"Q\", \"J\", \"T\", \"9\", \"8\", \"7\", \"6\", \"5\", \"4\", \"3\", \"2\"]\n",
    "\n",
    "\n",
    "starting_hands = list(itertools.product(ranks, repeat=2))\n",
    "\n",
    "# tuples to str\n",
    "starting_hands = [hand[0] + hand[1] for hand in starting_hands]\n",
    "\n",
    "# add offsuit to pairs and suit to all others\n",
    "starting_hands = [hand + \"s\" if hand[0] != hand[1] else hand + \"o\" for hand in starting_hands]\n",
    "\n",
    "# add offsuit counterparts to suited hands\n",
    "starting_hands = starting_hands + [hand[0] + hand[1] + \"o\" for hand in starting_hands if hand[2] == \"s\"]\n",
    "\n",
    "# sort and dedup to get rid of equivalents e.g. AKo and KAo\n",
    "starting_hands = set([\"\".join(sorted(hand)) for hand in starting_hands])\n",
    "\n",
    "\n",
    "assert len(starting_hands) == 169 # non-equivalent amount per https://en.wikipedia.org/wiki/Texas_hold_'em_starting_hands#Essentials\n",
    "\n",
    "print(\"Amount of non-equivalent starting hands: {}\".format(len(starting_hands)))"
   ]
  }
 ],
 "metadata": {
  "kernelspec": {
   "display_name": "base",
   "language": "python",
   "name": "python3"
  },
  "language_info": {
   "codemirror_mode": {
    "name": "ipython",
    "version": 3
   },
   "file_extension": ".py",
   "mimetype": "text/x-python",
   "name": "python",
   "nbconvert_exporter": "python",
   "pygments_lexer": "ipython3",
   "version": "3.9.13"
  }
 },
 "nbformat": 4,
 "nbformat_minor": 2
}
