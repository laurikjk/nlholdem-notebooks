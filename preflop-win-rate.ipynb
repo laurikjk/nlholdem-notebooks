{
 "cells": [
  {
   "cell_type": "code",
   "execution_count": 13,
   "metadata": {},
   "outputs": [],
   "source": [
    "import itertools\n",
    "import random\n",
    "from pokereval.card import Card\n",
    "from pokereval.hand_evaluator import HandEvaluator\n",
    "\n",
    "ranks = [2,3,4,5,6,7,8,9,10,11,12,13,14]\n",
    "suits = [1,2,3,4]"
   ]
  },
  {
   "cell_type": "markdown",
   "metadata": {},
   "source": [
    "Calculating win rate of AK suited vs sampled range of all hands"
   ]
  },
  {
   "cell_type": "code",
   "execution_count": 17,
   "metadata": {},
   "outputs": [
    {
     "name": "stdout",
     "output_type": "stream",
     "text": [
      "win rate:  0.6525\n",
      "lose rate:  0.3375\n",
      "tie rate:  0.01\n"
     ]
    }
   ],
   "source": [
    "heros_hand = [\n",
    "    Card(14, 1),\n",
    "    Card(13, 1)\n",
    "]\n",
    "\n",
    "deck = [Card(rank, suit) for rank, suit in list(itertools.product(ranks, suits))]\n",
    "\n",
    "# remove hero's hand from deck\n",
    "deck = set(deck) - set(heros_hand)\n",
    "\n",
    "\n",
    "win = 0\n",
    "lose = 0\n",
    "tie = 0\n",
    "\n",
    "villains_hands = list(itertools.combinations(deck, 2))\n",
    "\n",
    "villains_hands = random.sample(villains_hands, 20)\n",
    "\n",
    "\n",
    "for villains_hand in villains_hands:\n",
    "    remaining_deck = set(deck) - set(villains_hand)\n",
    "\n",
    "    boards = list(itertools.combinations(remaining_deck, 5))\n",
    "\n",
    "    boards = random.sample(boards, 20)\n",
    "\n",
    "    for board in boards:\n",
    "        hero_score = HandEvaluator.evaluate_hand(heros_hand, list(board))\n",
    "        villain_score = HandEvaluator.evaluate_hand(list(villains_hand), list(board))\n",
    "\n",
    "        if hero_score > villain_score:\n",
    "            win += 1\n",
    "        elif hero_score < villain_score:\n",
    "            lose += 1\n",
    "        else:\n",
    "            tie += 1\n",
    "\n",
    "amnt = win + lose + tie\n",
    "\n",
    "print(\"win rate: \", win / amnt)\n",
    "print(\"lose rate: \", lose / amnt)\n",
    "print(\"tie rate: \", tie / amnt)\n"
   ]
  }
 ],
 "metadata": {
  "kernelspec": {
   "display_name": "base",
   "language": "python",
   "name": "python3"
  },
  "language_info": {
   "codemirror_mode": {
    "name": "ipython",
    "version": 3
   },
   "file_extension": ".py",
   "mimetype": "text/x-python",
   "name": "python",
   "nbconvert_exporter": "python",
   "pygments_lexer": "ipython3",
   "version": "3.9.13"
  }
 },
 "nbformat": 4,
 "nbformat_minor": 2
}
